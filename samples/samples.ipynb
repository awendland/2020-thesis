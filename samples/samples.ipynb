{
  "metadata": {
    "kernelspec": {
      "display_name": "WebAssembly Reference Interpreter",
      "language": "wat",
      "name": "wasm_spec"
    },
    "language_info": {
      "codemirror_mode": "commonlisp",
      "file_extension": ".wat",
      "mimetype": "text/x-common-lisp",
      "name": "wasm_spec"
    }
  },
  "nbformat": 4,
  "nbformat_minor": 4,
  "cells": [
    {
      "cell_type": "markdown",
      "metadata": {},
      "source": "# Thesis: Code Samples\n\nThis notebook is for my ([Alex Wendland](https://blog.alexwendland.com/)) undergraduate thesis for Honors in Computer Science at Harvard called [WebAssembly as a Multi-Language Platform](https://github.com/awendland/2020-thesis).\n\nThe following code samples are taken from the thesis and made runnable inside this Jupyter notebook via [wasm-spec-kernel](https://github.com/awendland/wasm_spec_kernel).\n\nFor my thesis I added support for abstract types (similar to [OCaml's abstract types](https://ocaml.org/learn/tutorials/modules.html#Abstract-types)) to the [reference interpreter](https://github.com/WebAssembly/spec/tree/master/interpreter) for WebAssembly. My extended interpreter can be found at [awendland/webassembly-spec-abstypes](https://github.com/awendland/webassembly-spec-abstypes).\nEach demo will specify if they need this language extension by saying `leverages Core WebAssembly + abstract types`. Demos that don't include `+ abstract types` can be run using an WebAssembly v1 compliant engine.\nIf you launched this notebook via the Binder link in the README, wasm-spec-kernel will already be properly configured to use my extended interpreter. Otherwise, see the [wasm-spec-kernel repo](https://github.com/awendland/wasm_spec_kernel) for configuration instructions.\n"
    },
    {
      "cell_type": "markdown",
      "metadata": {},
      "source": "### Demo 2.2 - example date library\n\nNOTE: This sample is a poor implementation for a date library because it incorrectly assumes that 1 year is always 31,557,600,000 milliseconds. Do not use it.\n\nThis is related to Section 3.2 in the thesis (and also Section 3.4). It leverages Core WebAssembly + abstract types (https://github.com/awendland/webassembly-spec-abstypes)."
    },
    {
      "cell_type": "code",
      "metadata": {},
      "source": "(module $lib_date\n  (abstype_new $Date i32)\n  (func (export \"createDate\")\n    (param $day i32) (param $month i32) (param $year i32)\n    (result (abstype_new_ref $Date))\n    (i32.add ;; Day, Mon, Year -> Unix milliseconds\n      (i32.mul (local.get $day) (i32.const 86400))\n      (i32.add\n        (i32.mul (local.get $month) (i32.const 2592000))\n        (i32.mul (i32.const 31557600)\n          (i32.sub (local.get $year) (i32.const 1970)))))\n  )\n  (func (export \"yearsBetweenDates\") (param (abstype_new_ref $Date))\n    (param (abstype_new_ref $Date)) (result i32)\n    (i32.sub (local.get 0) (local.get 1))\n    (i32.div_s (i32.const 31557600))\n  )\n  (export \"Date\" (abstype_new_ref $Date))\n)\n(register \"lib_date\" $lib_date)\n\n(module $main\n  (import \"lib_date\" \"Date\" (abstype_sealed $Date))\n  (import \"lib_date\" \"createDate\" (func $createDate\n    (param i32) (param i32) (param i32)\n    (result (abstype_sealed_ref $Date))))\n  (import \"lib_date\" \"yearsBetweenDates\" (func $yearsBetweenDates\n    (param (abstype_sealed_ref $Date))\n    (param (abstype_sealed_ref $Date)) (result i32)))\n  (func (export \"main\") (result i32)\n    (call $createDate\n      (i32.const 2) (i32.const 20) (i32.const 1962))\n    (call $createDate\n      (i32.const 8) (i32.const 26) (i32.const 1918))\n    (call $yearsBetweenDates)\n  )\n)\n(assert_return (invoke $main \"main\") (i32.const 43))",
      "execution_count": null,
      "outputs": []
    },
    {
      "cell_type": "markdown",
      "metadata": {},
      "source": "#### Comparable OCaml\n\n```ocaml\n(* lib.ml *)\nmodule Date = sig\n  type date (* public, abstract type *)\nend =\nstruct\n  type date = {day : int;  month : int;  year : int} (* private, concrete type *)\n  val create : ?days:int -> ?months:int -> ?years:int -> unit -> date\n  val yearsBetweenDates : date -> date -> int\n  val month : date -> int\n  ...\nend\n\n(* consumer.ml *)\nlet kjohnson_bday : Date.date = Date.create 8 26 1918 () in\nlet mercury_launch : Date.date = Date.create 2 20 1962 () in\nlet kj_age_at_launch = Date.yearsBetweenDates kjohnson_bday mercury_launch in ...\n(* kjognson_bday.day <- this access is invalid *)\n```"
    },
    {
      "cell_type": "markdown",
      "metadata": {},
      "source": "#### Alternative Abstract Type Syntax\n\n```commonlisp\n(module $lib_date\n  (export \"Date\" (newtype $Date i32))\n  (func (export \"createDate\")\n    (param $day i32) (param $month i32) (param $year i32) (result (type $Date))\n    (i32.add\n      (i32.mul (local.get $day) (i32.const 86400))\n      (i32.add\n        (i32.mul (local.get $month) (i32.const 2592000))\n        (i32.mul (i32.const 31557600)\n          (i32.sub (local.get $year) (i32.const 1970))\n    )))\n  )\n  (func (export \"yearsBetweenDates\")\n    (param (type $Date)) (param (type $Date)) (result i32)\n    (i32.sub (local.get 0) (local.get 1))\n    (i32.div_s (i32.const 31557600))\n  )\n)\n(register \"lib_date\" $lib_date)\n\n(module $main\n  (import \"lib_date\" \"Date\" (type $Date))\n  (import \"lib_date\" \"createDate\" (func $createDate\n    (param i32) (param i32) (param i32) (result (type $Date))))\n  (import \"lib_date\" \"yearsBetweenDates\" (func $yearsBetweenDates\n    (param (type $Date)) (param (type $Date)) (result i32)))\n  (func (export \"main\") (result i32)\n    (call $createDate\n      (i32.const 2) (i32.const 20) (i32.const 1962))\n    (call $createDate\n      (i32.const 8) (i32.const 26) (i32.const 1918))\n    (call $yearsBetweenDates)\n  )\n)\n```"
    },
    {
      "cell_type": "markdown",
      "metadata": {},
      "source": "### Demo 3.1 - call foreign function\n\n\n\nThis is related to Section 3.1 in the thesis. It leverages Core WebAssembly."
    },
    {
      "cell_type": "code",
      "metadata": {},
      "source": ";; /* lib.cpp */\n;; bool isEven(int a) {\n;;   return a % 2 == 0;\n;; }\n\n(module $demo01_m1\n  (func $isEven (export \"isEven\") (param i32)\n    (result i32) ;; i32 is bool (0=false, 1=true)\n    (i32.rem_u (local.get 0) (i32.const 2))\n    (i32.const 0)\n    (i32.eq))\n)\n(register \"demo01_m1\" $demo01_m1)\n\n;; /* main.rs */\n;; \n;; extern \"WASM\" {\n;;   pub fn isEven(a: i32) -> bool;\n;; }\n;;\n;; pub fn main() -> bool {\n;;   return isEven(4) == true; // assert\n;; }\n\n(module $demo01_m2\n  (type (;0;) (func (param i32) (result i32)))\n  (import \"demo01_m1\" \"isEven\" (func $isEven (type 0)))\n  (func $main (export \"main\") (result i32)\n    (i32.const 4)\n    (call $isEven)\n    (i32.eq (i32.const 1 (;true;))))\n)\n(register \"demo01_m2\" $demo01_m2)\n\n(assert_return (invoke $demo01_m2 \"main\") (i32.const 1 (;true;)))",
      "execution_count": null,
      "outputs": []
    },
    {
      "cell_type": "markdown",
      "metadata": {},
      "source": "### Demo 3.2 - pass foreign function to other foreign function\n\n\n\nThis is related to Section 3.2 in the thesis. It leverages Core WebAssembly."
    },
    {
      "cell_type": "code",
      "metadata": {},
      "source": ";; /* lib.cpp */\n;; bool isEven(int a) {\n;;   return a % 2 == 0;\n;; }\n\n(module $demo02_m1\n  (func $isEven (export \"isEven\") (param i32)\n    (result i32) ;; i32 is bool (0=false, 1=true)\n    (i32.rem_u (local.get 0) (i32.const 2))\n    (i32.const 0)\n    (i32.eq))\n)\n(register \"demo02_m1\" $demo02_m1)\n\n;; /* lib.zig */\n;; const const num: i32 = 53\n;;\n;; export fn test_num(pred: fn(i32) -> bool) -> bool {\n;;   return pred(elem);\n;; }\n\n(module $demo02_m2\n  (global $num i32 (i32.const 53))\n  (type (;0;) (func (param i32) (result i32)))\n  ;; create a table which the predicate function will be provided through\n  (table $fns (export \"_fns\") 1 funcref)\n  ;; get the index of the slot to register a func in\n  (func (export \"_fns_slot\") (result i32) (i32.const 0))\n  ;; free up the slot\n  (func (export \"_fns_free\") (param $slot i32)\n    (table.set $fns (local.get $slot) (ref.null)))\n  (func $test_num (export \"test_num\") (param $_fn_slot i32) (result i32)\n    (global.get $num)\n    ;; call the predicate fn\n    (call_indirect $fns (type 0) (local.get $_fn_slot)))\n)\n(register \"demo02_m2\" $demo02_m2)\n\n;; /* main.rs */\n;; \n;; extern \"WASM\" {\n;;   pub fn test_num(pred: &dyn Fn(i32) -> bool) -> bool;\n;;   pub fn isEven(a: i32) -> bool;\n;; }\n;;\n;; pub fn main() -> bool {\n;;   return test_num(isEven);\n;; }\n\n(module $demo02_m3\n  (type (func (param i32) (result i32))) ;; 0\n  (import \"demo02_m1\" \"isEven\" (func $isEven (type 0)))\n  (import \"demo02_m2\" \"test_num\" (func $test_num (type 0)))\n  (import \"demo02_m2\" \"_fns\" (table $m2_fns 1 funcref))\n  (import \"demo02_m2\" \"_fns_slot\" (func $m2_fns_slot (result i32)))\n  (import \"demo02_m2\" \"_fns_free\" (func $m2_fns_free (param i32)))\n  ;; register the func as exportable\n  (elem declare func $isEven $isEven)\n  (func $main (export \"main\") (result i32) (local i32 i32)\n    ;; pass the predicate func to $demo_m2\n    (local.set 0 (call $m2_fns_slot))\n    (table.set $m2_fns (local.get 0) (ref.func $isEven))\n    ;; call the func\n    (local.set 1 (call $test_num (local.get 0)))\n    ;; cleanup the predicate func\n    (call $m2_fns_free (local.get 0))\n    (local.get 1))\n)\n(register \"demo02_m3\" $demo02_m3)\n\n(assert_return (invoke $demo02_m3 \"main\") (i32.const 0 (;false;)))",
      "execution_count": null,
      "outputs": []
    },
    {
      "cell_type": "markdown",
      "metadata": {},
      "source": "### Demo 3.6 - simplified fraction representation invariant\n\n\n\nThis is related to Section 3.6 in the thesis. It leverages Core WebAssembly + abstract types (https://github.com/awendland/webassembly-spec-abstypes)."
    },
    {
      "cell_type": "code",
      "metadata": {},
      "source": ";; Simple gcd implementation to polyfill C++ std::gcd\n(module $demo03_std\n  (func $gcd (export \"gcd\") (param $a i32) (param $b i32) (result i32)\n    (if (result i32) (i32.eq (local.get $a) (i32.const 0))\n      (then (local.get $b))\n      (else\n        (call $gcd\n            (i32.rem_s (local.get $b) (local.get $a))\n            (local.get $a)))))\n)\n(register \"std\" $demo03_std)\n\n;; /* demo03_m1.cpp */\n;; class RationalNum {\n;;   private:\n;;     int _num, _den;\n;;   public:\n;;     RationalNum(int num, int den) {\n;;       int gcd = std::gcd(num, den);\n;;       _num = num / gcd;\n;;       _den = den / gcd;\n;;     }\n;; }\n\n(module $demo03_m1\n  (import \"std\" \"gcd\" (func $_std_gcd (param i32) (param i32) (result i32)))\n  (memory 1)\n  (func $_malloc (param i32) (result i32)\n    ;; Only support a single allocation for this toy example\n    ;; i.e. ignore size and return the same i32 address every time\n    (i32.const 0))\n  (abstype_new $RationalNum i32)\n  ;; RationalNum struct = {int, int} = 4 + 4 = 8 bytes\n  (func (export \"RationalNum.new\") (param $num i32) (param $den i32)\n    (result (abstype_new_ref $RationalNum)) (local $gcd i32) (local $adr i32)\n    (local.set $gcd (call $_std_gcd (local.get $num) (local.get $den)))\n    (local.set $adr (call $_malloc (i32.const 8)))\n    (i32.store offset=0 (local.get $adr)\n      (i32.div_s (local.get $num) (local.get $gcd)))\n    (i32.store offset=4 (local.get $adr)\n      (i32.div_s (local.get $num) (local.get $gcd)))\n    (local.get $adr))\n  (func (export \"RationalNum.getNumerator\")\n    (param $this (abstype_new_ref $RationalNum)) (result i32)\n    (i32.load offset=0 (local.get $this)))\n  (export \"RationalNum\" (abstype_new_ref $RationalNum))\n)\n(register \"demo03_m1\" $demo03_m1)\n\n\n(module $demo03_test\n  (import \"demo03_m1\" \"RationalNum\" (abstype_sealed $RationalNum))\n  (import \"demo03_m1\" \"RationalNum.new\" (func $RationalNum.new\n    (param i32) (param i32) (result (abstype_sealed_ref $RationalNum))))\n  (import \"demo03_m1\" \"RationalNum.getNumerator\" (func $RationalNum.getNumerator\n    (param (abstype_sealed_ref $RationalNum)) (result i32)))\n  (func (export \"main\") (result i32)\n    (local $ratio (abstype_sealed_ref $RationalNum))\n    (local.set $ratio\n      (call $RationalNum.new (i32.const 10) (i32.const 2)))\n    (; e.g. perform other operations w/ $ratio (which is \"5/2\") ;)\n    (call $RationalNum.getNumerator (local.get $ratio))\n  )\n)\n\n(assert_return (invoke $demo03_test \"main\") (i32.const 5))",
      "execution_count": null,
      "outputs": []
    },
    {
      "cell_type": "markdown",
      "metadata": {},
      "source": "### Demo 4.2 - array access\n\n\n\nThis is related to Section 3.6 and Appendix A.2 in the thesis. It leverages Core WebAssembly + abstract types (https://github.com/awendland/webassembly-spec-abstypes)."
    },
    {
      "cell_type": "code",
      "metadata": {},
      "source": "(module $lib_buffer\n  (memory 1)\n  (global $nextAddr (mut i32) (i32.const 0))\n  (abstype_new $Buffer i32) ;; a sequence of bytes\n  (func $Buffer.create (param $size i32) (result (abstype_new_ref $Buffer))\n    (local i32)\n    (local.set 1 (global.get $nextAddr))\n    (i32.store (local.get 1) (local.get $size))\n    (global.set $nextAddr\n      (i32.add (local.get 1)\n        (i32.add (local.get $size) (i32.const 4))))\n    (local.get 1))\n  (func $Buffer.size (param $this (abstype_new_ref $Buffer)) (result i32)\n    (i32.load (local.get 0)))\n  (func $Buffer.i32_load (param $this (abstype_new_ref $Buffer)) (param $idx i32) (result i32)\n    (i32.add (i32.add (local.get $this) (i32.const 4)) (local.get $idx))\n    (i32.load))\n  (func $Buffer.i32_load8_u (param $this (abstype_new_ref $Buffer)) (param $idx i32) (result i32)\n    (i32.add (i32.add (local.get $this) (i32.const 4)) (local.get $idx))\n    (i32.load8_u))\n  (func $Buffer.i32_store (param $this (abstype_new_ref $Buffer)) (param $idx i32) (param $data i32)\n    (i32.add (i32.add (local.get $this) (i32.const 4)) (local.get $idx))\n    (local.get $data)\n    (i32.store))\n  (func $Buffer.i32_store8 (param $this (abstype_new_ref $Buffer)) (param $idx i32) (param $data i32)\n    (i32.add (i32.add (local.get $this) (i32.const 4)) (local.get $idx))\n    (local.get $data)\n    (i32.store))\n  (abstype_new $ReadonlyBuffer i32)\n  (func $ReadonlyBuffer.fromBuffer (param $super (abstype_new_ref $Buffer))\n    (result (abstype_new_ref $ReadonlyBuffer))\n    (local.get 0))\n  (func $ReadonlyBuffer.i32_load (param $this (abstype_new_ref $Buffer)) (param $idx i32) (result i32)\n    (call $Buffer.i32_load (local.get $this) (local.get $idx)))\n  (func $ReadonlyBuffer.i32_load8_u (param $this (abstype_new_ref $Buffer)) (param $idx i32) (result i32)\n    (call $Buffer.i32_load8_u (local.get $this) (local.get $idx)))\n)\n(register \"lib_buffer\" $lib_buffer)",
      "execution_count": null,
      "outputs": []
    }
  ]
}
